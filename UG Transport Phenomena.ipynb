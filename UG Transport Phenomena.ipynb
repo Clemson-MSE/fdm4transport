{
 "cells": [
  {
   "cell_type": "markdown",
   "metadata": {},
   "source": [
    "# Introduction to Transport Phenomena: Heat and Mass Transfer\n",
    "\n",
    "### Mia Maciorowski, Nikhil Karthikeyan, Ulf D. Schiller\n",
    "\n",
    "#### *[Schiller Research Group](https://cecas.clemson.edu/compmat/), Department of Materials Science and Engineering, Clemson University*"
   ]
  },
  {
   "cell_type": "markdown",
   "metadata": {},
   "source": [
    "## Synopsis\n",
    "\n",
    "This collection of notebooks contains introductions to numerical solutions of steady and transient diffusion problems in one and two dimensions. The notebooks were created to accompany the undergraduate course **MSE 3270: Transport Phenomena** in the curriculum for Materials Science and Engineering at Clemson University."
   ]
  },
  {
   "cell_type": "markdown",
   "metadata": {},
   "source": [
    "## Contents\n",
    "\n",
    "### [1D Transient Conduction in Cartesian Coordinates](1D%20Heat%20Transfer%20in%20a%20Copper%20Bar.ipynb)\n",
    "\n",
    "_Omnia Gallia divisa est in partes tres_\n",
    "\n",
    "### [2D Reaction-Diffusion Equation in a Square Domain](2D%20Reaction-Diffusion%20Process%20in%20a%20Square%20Domain.ipynb)\n",
    "\n",
    "_Lorem ipsum_\n",
    "\n",
    "### [Heat Transfer in Pipe Flow]()\n",
    "\n",
    "_Iterum rana se inflavit_"
   ]
  }
 ],
 "metadata": {
  "kernelspec": {
   "display_name": "Python 3",
   "language": "python",
   "name": "python3"
  },
  "language_info": {
   "codemirror_mode": {
    "name": "ipython",
    "version": 3
   },
   "file_extension": ".py",
   "mimetype": "text/x-python",
   "name": "python",
   "nbconvert_exporter": "python",
   "pygments_lexer": "ipython3",
   "version": "3.7.7"
  }
 },
 "nbformat": 4,
 "nbformat_minor": 2
}
