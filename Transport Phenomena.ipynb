{
 "cells": [
  {
   "cell_type": "markdown",
   "metadata": {},
   "source": [
    "# Introduction to Finite Difference Methods for Transport Phenomena\n",
    "\n",
    "### Mia Maciorowski, Nikhil Karthikeyan, Ulf D. Schiller\n",
    "\n",
    "#### *[Schiller Research Group](https://cecas.clemson.edu/compmat/), Department of Materials Science and Engineering, Clemson University*"
   ]
  },
  {
   "cell_type": "markdown",
   "metadata": {},
   "source": [
    "## Synopsis\n",
    "\n",
    "This collection of notebooks contains introductions to numerical solutions of steady and transient diffusion problems in one and two dimensions. The notebooks were created to accompany the undergraduate course **MSE 3270: Transport Phenomena** in the curriculum for Materials Science and Engineering at Clemson University."
   ]
  },
  {
   "cell_type": "markdown",
   "metadata": {},
   "source": [
    "## Contents\n",
    "\n",
    "### [1D Transient Conduction in Cartesian Coordinates](1D%20Heat%20Transfer%20in%20a%20Copper%20Bar.ipynb)\n",
    "\n",
    "This notebook introduces finite difference methods for the 1D heat equation in stationary media. We discuss steady and transient conduction in a copper bar that is heated by an electric current. The notebook contains interactive widgets that allow you to explore the effect of different materials properties on the solution. In particular, we explore the effect of the Biot number and the Fourier number.\n",
    "\n",
    "### [2D Reaction-Diffusion Equation in a Square Domain](2D%20Reaction-Diffusion%20Process%20in%20a%20Square%20Domain.ipynb)\n",
    "\n",
    "This notebook discusses the finite difference methods for the 2D reaction-diffusion equation in a square domain. We obtain steady and transient solutions for the species concentration in a 2D square domain with a homogeneous chemical reacion. The notebook contains interactive widgets that allow you to explore the effect of different parameters on the solution. In particular, we explore the effect of the Thiele modulus on the minimum concentration in the domain.\n",
    "\n",
    "### [Heat Transfer in Steady Pipe Flow](Heat%20Transfer%20in%20Steady%20Pipe%20Flow.ipynb)\n",
    "\n",
    "This notebook discusses heat transfer in steady pipe flow as an example of internal flow advection heat transfer. The 1D temperature profile in the fluid along the pipe is obtained analytically for the steady-state, and numerically for the transient behavior. The notebook contains plots of the steady and transient solution and an animation of the transient behavior."
   ]
  }
 ],
 "metadata": {
  "kernelspec": {
   "display_name": "Python 3",
   "language": "python",
   "name": "python3"
  },
  "language_info": {
   "codemirror_mode": {
    "name": "ipython",
    "version": 3
   },
   "file_extension": ".py",
   "mimetype": "text/x-python",
   "name": "python",
   "nbconvert_exporter": "python",
   "pygments_lexer": "ipython3",
   "version": "3.7.7"
  }
 },
 "nbformat": 4,
 "nbformat_minor": 2
}
