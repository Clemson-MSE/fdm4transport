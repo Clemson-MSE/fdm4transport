{
 "cells": [
  {
   "cell_type": "code",
   "execution_count": 1,
   "metadata": {},
   "outputs": [
    {
     "data": {
      "application/javascript": [
       "\n",
       "requirejs.undef('filepicker');\n",
       "\n",
       "define('filepicker', [\"@jupyter-widgets/base\"], function(widgets) {\n",
       "\n",
       "    var FilePickerView = widgets.DOMWidgetView.extend({\n",
       "        render: function(){\n",
       "            this.file = document.createElement('input');\n",
       "            this.file.setAttribute('class', 'fileinput');\n",
       "            this.file.setAttribute('id', this.cid);\n",
       "            this.file.multiple = this.model.get('multiple');\n",
       "            this.file.required = true;\n",
       "            this.file.setAttribute('type', 'file');\n",
       "            this.file.setAttribute('style', 'display:none');\n",
       "\n",
       "            this.label = document.createElement('label');\n",
       "            this.label.setAttribute('for', this.cid);\n",
       "            this.label.setAttribute('style', 'border: 1px solid; border-radius: 5px; display: inline-block; padding: 6px 12px');\n",
       "\n",
       "            this.icon = document.createElement('i');\n",
       "            this.icon.setAttribute(\"class\", \"fa fa-upload\");\n",
       "\n",
       "            if (this.file.multiple) {\n",
       "                this.labelstr = \"  Upload Files\";\n",
       "            } else {\n",
       "                this.labelstr = \"  Upload File\";\n",
       "            }\n",
       "            this.label.innerHTML = this.labelstr;\n",
       "            this.label.prepend(this.icon);\n",
       "            this.el.appendChild(this.label);\n",
       "            this.el.appendChild(this.file);\n",
       "            this.listenTo(this.model, 'change:send', this._send_changed, this);\n",
       "            this.listenTo(this.model, 'change:reset', this._reset, this);\n",
       "            this.update();\n",
       "        },\n",
       "\n",
       "        events: {\n",
       "            // List of events and their handlers.\n",
       "            'change': 'handle_file_change'\n",
       "        },\n",
       "\n",
       "        _reset: function() {\n",
       "            this.label.innerHTML = this.labelstr;\n",
       "            this.label.prepend(this.icon);\n",
       "            this.file.removeAttribute(\"disabled\");\n",
       "        },\n",
       "\n",
       "        _send_changed: function() {\n",
       "            var that = this;\n",
       "            var send = this.model.get('send');\n",
       "            var fnum = send[0];\n",
       "            var offset = send[1];\n",
       "            var chunk_size=64*1024;\n",
       "            var reader;\n",
       "\n",
       "            if (fnum == -1) {\n",
       "                // ignore\n",
       "                return\n",
       "            }\n",
       "\n",
       "            if (offset == 0) {\n",
       "                this.model.set('sent', -1);\n",
       "                this.touch();\n",
       "            }\n",
       "\n",
       "            // console.log('send: ' + fnum + ' ' + offset);\n",
       "            function tob64( buffer ) {\n",
       "                var binary = '';\n",
       "                var bytes = new Uint8Array( buffer );\n",
       "                var len = bytes.byteLength;\n",
       "                for (var i = 0; i < len; i++) {\n",
       "                    binary += String.fromCharCode( bytes[ i ] );\n",
       "                }\n",
       "                return window.btoa( binary );\n",
       "            }\n",
       "\n",
       "            var reader_done = function (event) {\n",
       "                // chunk is finished.  Send to python\n",
       "                if (event.target.error == null) {\n",
       "                    var b64 = tob64(event.target.result);\n",
       "                    that.model.set('data', b64);\n",
       "                    that.model.set('sent', offset);\n",
       "                    that.touch();\n",
       "                } else {\n",
       "                    console.log(\"Read error: \" + event.target.error);\n",
       "                    that.model.set('data', '');\n",
       "                    that.model.set('sent', -2);\n",
       "                    that.touch();\n",
       "                }\n",
       "                that.touch();\n",
       "            }\n",
       "        \n",
       "            var chunk_reader = function (_offset, _f) {\n",
       "                // console.log('CR' + ' ' + _f + ' ' + _offset);\n",
       "                reader = new FileReader();\n",
       "                var chunk = _f.slice(_offset, chunk_size + _offset);            \n",
       "                reader.readAsArrayBuffer(chunk);\n",
       "                reader.onload = reader_done;\n",
       "            }\n",
       "    \n",
       "            // OK. request next chunk\n",
       "            chunk_reader(offset, this.files[fnum]);\n",
       "        },\n",
       "        \n",
       "        \n",
       "        handle_file_change: function(evt) {\n",
       "\n",
       "            var _files = evt.target.files;\n",
       "            var filenames = [];\n",
       "            var file_readers = [];\n",
       "            this.files = [];\n",
       "\n",
       "            for (var i = 0; i < _files.length; i++) {\n",
       "                var file = _files[i];\n",
       "                console.log(\"Filename: \" + file.name);\n",
       "                console.log(\"Type: \" + file.type);\n",
       "                console.log(\"Size: \" + file.size + \" bytes\");\n",
       "                this.files.push(file);\n",
       "                filenames.push([file.name, file.size]);\n",
       "            };\n",
       "            \n",
       "            // Set the filenames of the files.\n",
       "            this.model.set('filenames', filenames);\n",
       "            this.touch();\n",
       "\n",
       "            // update the label\n",
       "            if (filenames.length == 0) {\n",
       "                this.label.innerHTML = this.labelstr;\n",
       "                this.file.removeAttribute(\"disabled\");\n",
       "            } else if (filenames.length == 1) {\n",
       "                this.label.innerHTML = \"  \" + filenames[0][0];\n",
       "                this.file.setAttribute('disabled', 'true');\n",
       "            } else {\n",
       "                this.label.innerHTML = \"  \" + filenames.length + \" files selected\";\n",
       "                this.file.setAttribute('disabled', 'true');           \n",
       "            };\n",
       "            this.label.prepend(this.icon);\n",
       "        },\n",
       "    });\n",
       "\n",
       "    // Register the FilePickerView with the widget manager.\n",
       "    return {\n",
       "        FilePickerView: FilePickerView\n",
       "    };\n",
       "});\n"
      ],
      "text/plain": [
       "<IPython.core.display.Javascript object>"
      ]
     },
     "metadata": {},
     "output_type": "display_data"
    }
   ],
   "source": [
    "import numpy as np\n",
    "import matplotlib as mpl\n",
    "import matplotlib.pyplot as plt\n",
    "import ipywidgets as widgets\n",
    "import hublib.ui as ui\n",
    "mpl.rc('animation', html='jshtml')"
   ]
  },
  {
   "cell_type": "markdown",
   "metadata": {
    "id": "rT_VmPGl_9_j"
   },
   "source": [
    "# 1D Heat Transfer in a Copper Bar"
   ]
  },
  {
   "cell_type": "markdown",
   "metadata": {},
   "source": [
    "A thin copper bar of thickness $L=5\\,\\mathrm{mm}$ is heated by an electric current resulting in a volumetric heat generation rate of $\\dot{q}=5\\cdot10^5\\,\\mathrm{W/m^3}$. The copper bar is in contact with a heat sink at temperature $T_0=50^\\circ$C on the lower surface. The upper surface is exposed to an ambient temperature of $T_\\infty=20^\\circ\\mathrm{C}$ with a convection heat transfer coefficient of $h=50\\,\\mathrm{W/(m^2K)}$. The thermophysical properties of pure copper are $k=$, $c_p=$, $\\rho=$.\n",
    "\n",
    "Let us collect the known values in variables:"
   ]
  },
  {
   "cell_type": "code",
   "execution_count": 2,
   "metadata": {},
   "outputs": [],
   "source": [
    "rho = 8993\n",
    "cp = 385\n",
    "k = 401\n",
    "h = 50\n",
    "L = 5e-3\n",
    "T0 = 50\n",
    "Tinf = 20\n",
    "q = 5e5"
   ]
  },
  {
   "cell_type": "markdown",
   "metadata": {
    "id": "rT_VmPGl_9_j"
   },
   "source": [
    "## 1D Heat Equation in Cartesian Coordinates\n",
    "\n",
    "The heat transfer in the copper bar is described by the 1D heat equation\n",
    "\n",
    "\\begin{equation}\n",
    "\\rho c_p \\frac{\\partial T}{\\partial t} = k \\frac{\\partial^2 T}{\\partial x^2} + \\dot{q} .\n",
    "\\end{equation}\n",
    "\n",
    "Before we introduce the finite-difference formulation, we are going to obtain the steady-state temperature profile in the copper bar."
   ]
  },
  {
   "cell_type": "markdown",
   "metadata": {
    "id": "rT_VmPGl_9_j"
   },
   "source": [
    "### Steady-state solution\n",
    "\n",
    "The steady-state temperature profile is the solution of the ordinary differential equation\n",
    "\\begin{equation}\n",
    "k \\frac{d^2 T}{d x^2} + \\dot{q} .\n",
    "\\end{equation}\n",
    "subject to the boundary conditions. The general solution $T(x)$ is given by the superposition of the homogeneous solution $T_h(x)=C_1x+C_2$ and the particular solution $T_p(x) = -\\frac{\\dot{q}}{2k} x^2$, i.e.,\n",
    "\\begin{equation}\n",
    "T(x) = -\\frac{\\dot{q}}{2k} x^2 + C_1 x + C_2 .\n",
    "\\end{equation}\n",
    "The heat flux in the copper bar is given by Fourier's law\n",
    "\\begin{equation}\n",
    "q''(x) = -k \\frac{dT}{dx} = \\dot{q} x - k C_1 .\n",
    "\\end{equation}\n",
    "We choose the coordinate system such that the surface in contact with the heat sink is located at $x=0$ and the surface exposed to ambient air is located at $x=L$. The boundary conditions are then $T(0)=T_0$ and $q''(L)=h(T(L)-T_\\infty)$ (Newton's law of cooling). We thus have to solve the equation system\n",
    "\\begin{align}\n",
    "T(0) &= T_0 = C_2 \\\\\n",
    "q''(L) &= h\\left[T(L)-T_\\infty\\right] = h \\left[ -\\frac{\\dot{q}}{2k} L^2 + C_1 L + C_2 -T_\\infty \\right] = \\dot{q} L - k C_1 ,\n",
    "\\end{align}\n",
    "which leads to\n",
    "\n",
    "\\begin{align}\n",
    "C_1 &= \\frac{\\frac{\\dot{q}h}{2k}L^2+\\dot{q}L-h(T_0-T_\\infty)}{k+hL} \\\\\n",
    "C_2 &= T_0 .\n",
    "\\end{align}\n",
    "Let us plot this solution:"
   ]
  },
  {
   "cell_type": "code",
   "execution_count": 3,
   "metadata": {},
   "outputs": [
    {
     "data": {
      "image/png": "[encoded data removed]",
      "text/plain": [
       "<Figure size 432x288 with 1 Axes>"
      ]
     },
     "metadata": {
      "needs_background": "light"
     },
     "output_type": "display_data"
    }
   ],
   "source": [
    "def steady_state(x):\n",
    "    C2 = T0\n",
    "    C1 = (q*L+h*q/(2*k)*L**2-h*(C2-Tinf))/(k+h*L)\n",
    "    T = -q/(2*k)*x**2 + C1*x + C2\n",
    "    return T\n",
    "\n",
    "xs = np.linspace(0,L,20)\n",
    "plt.plot(xs,steady_state(xs),'r--',lw=2,label='steady-state solution')\n",
    "plt.xlabel(r'$x\\ \\mathrm{[mm]}$')\n",
    "plt.ylabel(r'$T\\ \\mathrm{[^\\circ C]}$')\n",
    "plt.xlim(0,L)\n",
    "plt.ticklabel_format(useOffset=False)\n",
    "plt.legend()\n",
    "plt.show()"
   ]
  },
  {
   "cell_type": "markdown",
   "metadata": {
    "id": "rT_VmPGl_9_j"
   },
   "source": [
    "### Finite Difference Formulation\n",
    "\n",
    "The transient solution requires to solve the partial differential equation, and we have not yet discussed how to do that analytically. Here, we are going to look at a numerical solution. The basic idea is to replace the derivates with respect to space and time by finite differences. We can obtain the finite difference expression by using a Taylor expansion:\n",
    "\n",
    "To estimate the second spatial derivative the temperature $T$, we expand the temperature at $T(x+\\Delta x)$ and $T(x-\\Delta x)$ around $T(x)$\n",
    "\\begin{equation}\n",
    "\\begin{split}\n",
    "T(x+\\Delta x) &= T(x) + \\Delta x \\frac{\\partial T}{\\partial x} + \\frac{(\\Delta x)^2}{2} \\frac{\\partial^2 T}{\\partial x^2} + \\dots \\\\\n",
    "T(x-\\Delta x) &= T(x) - \\Delta x \\frac{\\partial T}{\\partial x} + \\frac{(\\Delta x)^2}{2} \\frac{\\partial^2 T}{\\partial x^2} - \\dots\n",
    "\\end{split}\n",
    "\\end{equation}\n",
    "By subtracting the two equations, we obtain an approximate expression for the first derivative\n",
    "\\begin{equation}\n",
    "\\frac{\\partial T}{\\partial x} \\approx \\frac{T(x+\\Delta x)-T(x-\\Delta x)}{2\\Delta x}\n",
    "\\end{equation}\n",
    "By summing the two equations, we obtain an approximate expression for the second derivative\n",
    "\\begin{equation}\n",
    "\\frac{\\partial^2 T}{\\partial x^2} \\approx \\frac{T(x+\\Delta x) - 2 T(x) + T(x-\\Delta x)}{(\\Delta x)^2} .\n",
    "\\end{equation}\n",
    "The time derivative of $T$ can be approximated by a so called _forward Euler time step_\n",
    "\\begin{equation}\n",
    "T(t+\\Delta t) = T(t) + \\Delta t \\frac{\\partial T}{\\partial t}\n",
    "\\end{equation}\n",
    "\n",
    "We now plug the finite differences into the original PDE to obtain an algebraic integration scheme for the transient heat equation:\n",
    "\\begin{equation}\n",
    "T(x,t+\\Delta t) = T(x,t) + \\Delta t \\frac{k}{\\rho c_p} \\left( \\frac{T(x+\\Delta x,t) - 2 T(x,t) + T(x-\\Delta x,t)}{(\\Delta x)^2} + \\frac{\\dot{q}}{k} \\right)\n",
    "\\end{equation}"
   ]
  },
  {
   "cell_type": "markdown",
   "metadata": {},
   "source": [
    "### Discretization\n",
    "\n",
    "This equation gives an update rule for a set of discrete points on the $x$ axis, evenly spaced by a distance $\\Delta x$. Successive applications of the update rule yield the solution at discrete time steps with increment $\\Delta t$. It is worth noting that the forward Euler step is conditionaly stable. This means that the time step $\\Delta t$ needs to be sufficiently small such that $\\alpha \\Delta t/(\\Delta x)^2<0.5$. Let us introduce the discrete points and space and time steps, assuming that want to integrate until `time`."
   ]
  },
  {
   "cell_type": "code",
   "execution_count": 4,
   "metadata": {},
   "outputs": [],
   "source": [
    "time = 0.25\n",
    "\n",
    "dx = 2.5e-4\n",
    "dt = 1.0e-4\n",
    "\n",
    "xs = np.arange(0,L+dx,dx)\n",
    "ts = np.arange(0,time+dt,dt)"
   ]
  },
  {
   "cell_type": "markdown",
   "metadata": {
    "id": "rT_VmPGl_9_j"
   },
   "source": [
    "### Boundary conditions\n",
    "\n",
    "Looking at the update scheme, we see that the new value for each point depends on its two neighbors. However, at the boundaries of the domain, only one neighbor exists and it seems at first that the update rule cannot be applied. This can be resolved by considering the boundary conditions.\n",
    "\n",
    "The boundary conditions for the copper bar are\n",
    "\\begin{equation}\n",
    "\\begin{split}\n",
    "T(0,t) &= T_o  \\\\\n",
    "- k \\left. \\frac{\\partial T}{\\partial x}\\right|_{x=L} &= h \\left[ T(L,t) - T_\\infty \\right]\n",
    "\\end{split}\n",
    "\\end{equation}\n",
    "\n",
    "Thus, at the lower boundary condition we can simply set the temperature to the fixed value $T_o$. The convection boundary condition can be approximated by\n",
    "\\begin{equation}\n",
    "-k \\frac{T(L+\\Delta x) -T(L-\\Delta x)}{2\\Delta x} = h \\left[ T(L,t) - T_\\infty \\right] ,\n",
    "\\end{equation}\n",
    "which can be written as \n",
    "\\begin{equation}\n",
    "T(L+\\Delta x) = T(L-\\Delta x) - 2\\Delta x\\frac{h}{k} \\left[ T(L,t) - T_\\infty \\right] .\n",
    "%T(L,t) = \\left( 1 + \\Delta x \\frac{h}{k} \\right)^{-1} \\left[T(L-\\Delta x,t) + \\Delta x \\frac{h}{k} T_\\infty \\right]  .\n",
    "\\end{equation}\n",
    "\n",
    "Therefore, the Euler step at this boundary becomes\n",
    "\\begin{equation}\n",
    "T(L,t+\\Delta t) %= T(L,t) + \\Delta t \\frac{k}{\\rho c_p} \\left( \\frac{T(L+\\Delta x,t) - 2 T(L,t) + T(L-\\Delta x,t)}{(\\Delta x)^2} + \\frac{\\dot{q}}{k} \\right) \\\\\n",
    "= T(L,t) + \\Delta t \\frac{k}{\\rho c_p} \\left( \\frac{ 2 T(L-\\Delta x) - 2 T(L,t) - 2\\Delta x\\frac{h}{k}\\left[ T(L,t)-T_\\infty\\right]}{(\\Delta x)^2} + \\frac{\\dot{q}}{k} \\right) .\n",
    "\\end{equation}\n",
    "\n",
    "To facilitate modifying the boundary conditions later, let us define them as functions:"
   ]
  },
  {
   "cell_type": "code",
   "execution_count": 5,
   "metadata": {},
   "outputs": [],
   "source": [
    "def left_boundary(T):\n",
    "    return T0 # Dirichlet boundary condition\n",
    "\n",
    "def right_boundary(T):\n",
    "    return T[-1] + dt*k/(rho*cp)*(2*(T[-2]-T[-1]-dx*h/k*(T[-1]-Tinf))/dx**2+q/k) # Neumann boundary condition"
   ]
  },
  {
   "cell_type": "markdown",
   "metadata": {},
   "source": [
    "We can now define a function that computes the transient solution:"
   ]
  },
  {
   "cell_type": "code",
   "execution_count": 6,
   "metadata": {},
   "outputs": [],
   "source": [
    "def transient():\n",
    "    steps = len(ts)-1\n",
    "    Ts = np.zeros((len(ts),len(xs)))\n",
    "    Ts[0] = [T0]*len(xs) # initial condition\n",
    "    T = np.copy(Ts[0])\n",
    "    for t in range(len(ts)-1):\n",
    "        T[0] = left_boundary(T)\n",
    "        T[-1] = right_boundary(T)\n",
    "        T[1:-1] += dt*k/(rho*cp) * ( (T[2:] - 2*T[1:-1] + T[:-2]) / (dx**2) + q/k ) # forward Euler step\n",
    "        Ts[t+1] = T\n",
    "    return Ts"
   ]
  },
  {
   "cell_type": "markdown",
   "metadata": {},
   "source": [
    "Let us plot the solution at selected times along with the steady-state solution:"
   ]
  },
  {
   "cell_type": "code",
   "execution_count": 7,
   "metadata": {
    "colab": {
     "base_uri": "https://localhost:8080/",
     "height": 279
    },
    "executionInfo": {
     "elapsed": 1519,
     "status": "ok",
     "timestamp": 1612901205045,
     "user": {
      "displayName": "Ulf Schiller",
      "photoUrl": "https://lh3.googleusercontent.com/a-/AOh14GjVAyzhRKcgkROmkhqAIb0abiUpg2kUPQbLRjMi=s64",
      "userId": "12906905475473447503"
     },
     "user_tz": 300
    },
    "id": "9E56MQwXIKY8",
    "outputId": "78b00d5b-8b4f-44ce-bdf9-b9f57407e7de"
   },
   "outputs": [
    {
     "data": {
      "image/png": "[encoded data removed]",
      "text/plain": [
       "<Figure size 432x288 with 1 Axes>"
      ]
     },
     "metadata": {
      "needs_background": "light"
     },
     "output_type": "display_data"
    }
   ],
   "source": [
    "Ts = transient()\n",
    "for t in [0,100,1000]:\n",
    "    plt.plot(xs,Ts[t],'.:',label='finite difference t=%.1f'%ts[t]+' s')\n",
    "plt.plot(xs,steady_state(xs),'r--',lw=2,label='steady state solution')\n",
    "plt.xlabel(r'$x\\ \\mathrm{[mm]}$')\n",
    "plt.ylabel(r'$T\\ \\mathrm{[^\\circ C]}$')\n",
    "plt.ticklabel_format(useOffset=False)\n",
    "plt.legend()\n",
    "plt.show()"
   ]
  },
  {
   "cell_type": "markdown",
   "metadata": {},
   "source": [
    "### Effect of materials properties on the steady and transient solution"
   ]
  },
  {
   "cell_type": "markdown",
   "metadata": {},
   "source": [
    "One observation we can make is that the temperature difference within the copper bar is rather small. To see the effects of the parameters a little better, we are going to change the setup of the problem a little. Instead of a constant temperature at the left boundary, we will now consider the left surface of the copper bar to be insulated, i.e., $q''(0)=0$. This will of course change the steady-state solution."
   ]
  },
  {
   "cell_type": "markdown",
   "metadata": {},
   "source": [
    "#### Exercise: Obtain the integration constants $C_1$ and $C_2$ for this new setup."
   ]
  },
  {
   "cell_type": "code",
   "execution_count": 8,
   "metadata": {
    "scrolled": true
   },
   "outputs": [],
   "source": [
    "def left_boundary(T):\n",
    "    T = T[0] + dt*k/(rho*cp)*(2*(T[1]-T[0])/dx**2+q/k)\n",
    "    return T\n",
    "\n",
    "def steady_state(x):\n",
    "    C2 = Tinf + q*L/h + q/(2*k)*L**2\n",
    "    C1 = 0\n",
    "    T = -q/(2*k)*x**2 + C1*x + C2\n",
    "    return T"
   ]
  },
  {
   "cell_type": "markdown",
   "metadata": {},
   "source": [
    "In the widget below, you can explore the effect of the materials properties on the steady-state solution and the transient behavior. _Note that it takes some time to update the animation every time you change a value._"
   ]
  },
  {
   "cell_type": "code",
   "execution_count": 9,
   "metadata": {},
   "outputs": [],
   "source": [
    "def animate1d(T,frames=100,interval=50):\n",
    "    step = len(T)//frames\n",
    "    T = np.vstack([T[0],T[1::step]])\n",
    "\n",
    "    def init():\n",
    "        profile.set_data(xs,T[0])\n",
    "        time_text.set_text('t={0:.4f} s'.format(0))\n",
    "        bifo_text.set_text(r'$\\tau$'+'={0:.1e}\\nBi={1:.1e}\\nFo={2:.1e}'.format(tau,Bi,0))\n",
    "        return (profile,time_text,bifo_text)\n",
    "\n",
    "    def animate(i):\n",
    "        Fo = k/(rho*cp)*i*dt*step/L**2\n",
    "        profile.set_data(xs,T[i])\n",
    "        time_text.set_text('t={0:.4f} s'.format(i*dt*step))\n",
    "        bifo_text.set_text(r'$\\tau$'+'={0:.1e}\\nBi={1:.1e}\\nFo={2:.1e}'.format(tau,Bi,Fo))\n",
    "        return (profile,time_text,bifo_text)\n",
    "\n",
    "    tau = rho*cp*L/h\n",
    "    Bi = h*L/k\n",
    "    Fo = k/(rho*cp)*t/L**2\n",
    "    Tst = steady_state(xs)\n",
    "    Tmax = max(80,np.max(steady_state(xs)))\n",
    "    Tmin = min(Tinf,np.min(steady_state(xs)))\n",
    "\n",
    "    fig, ax = plt.subplots()\n",
    "    ax.plot(xs,Tst,'r--',lw=2,label='steady-state solution')\n",
    "    profile, = ax.plot(xs,Ts[0],'r',label='transient solution')\n",
    "    ax.set_ylim(Tmin-(Tmax-Tmin)/10,Tmax+(Tmax-Tmin)/10)\n",
    "    ax.ticklabel_format(useOffset=False)\n",
    "    ax.set_title('Temperature Profile')\n",
    "    ax.set_xlabel('x')\n",
    "    ax.set_ylabel('T')\n",
    "    ax.legend(loc=3)\n",
    "    time_text = ax.text(0.7, 0.9, 't=0 s', transform=ax.transAxes, color='k', fontsize=14)\n",
    "    bifo_text = ax.text(0.7, 0.5,r'$\\tau$'+'={0:.1e}\\nBi={1:.2f}\\nFo={2:.2f}'.format(tau,Bi,Fo), transform=ax.transAxes, fontsize=14)\n",
    "    \n",
    "    ani = mpl.animation.FuncAnimation(fig, animate, init_func=init,\n",
    "                                  frames=len(T), interval=interval, blit=True)\n",
    "    plt.close()\n",
    "    return ani"
   ]
  },
  {
   "cell_type": "code",
   "execution_count": 10,
   "metadata": {
    "scrolled": false
   },
   "outputs": [
    {
     "data": {
      "application/vnd.jupyter.widget-view+json": {
       "model_id": "965825d1acf24058bcfee5e614780f5b",
       "version_major": 2,
       "version_minor": 0
      },
      "text/plain": [
       "Group(children=(Output(), Number(children=(HTML(value='<div data-toggle=\"popover\" title=\"total observation tim…"
      ]
     },
     "metadata": {},
     "output_type": "display_data"
    }
   ],
   "source": [
    "def animate_transient(name='', value=''):\n",
    "    global time, ts, k, cp, h, q\n",
    "    \n",
    "    # set parameters\n",
    "    time = t_widget.value # observation time\n",
    "    k = k_widget.value # thermal conductivity\n",
    "    cp = cp_widget.value # heat capacity\n",
    "    h = h_widget.value # convection coefficient\n",
    "    q = q_widget.value # heat generation\n",
    "    ts = np.arange(0,time+dt,dt)\n",
    "    Ts = transient()\n",
    "    \n",
    "    ani = animate1d(Ts,frames=40,interval=100)\n",
    "    with out_widget:\n",
    "        out_widget.clear_output(wait=True)\n",
    "        display(ani)\n",
    "    return ani\n",
    "\n",
    "t_widget = ui.Number(\n",
    "    name = 'time',\n",
    "    desc = 'total observation time',\n",
    "    value = 0.5,\n",
    "    cb = animate_transient\n",
    ")\n",
    "dt_widget = ui.Number(\n",
    "    name = 'dt',\n",
    "    desc = 'time step',\n",
    "    value = 2.5e-4,\n",
    "    cb = animate_transient\n",
    ")\n",
    "q_widget = ui.Number(\n",
    "    name = 'q',\n",
    "    desc = 'heat generation',\n",
    "    value = 5e5,\n",
    "    cb = animate_transient\n",
    ")\n",
    "k_widget = ui.Number(\n",
    "    name = 'k',\n",
    "    desc = 'thermal conductivity',\n",
    "    value = 401,\n",
    "    cb = animate_transient\n",
    ")\n",
    "cp_widget = ui.Number(\n",
    "    name = 'cp',\n",
    "    desc = 'specific heat capacity',\n",
    "    value = 385,\n",
    "    cb = animate_transient\n",
    ")\n",
    "h_widget = ui.Number(\n",
    "    name = 'h',\n",
    "    desc = 'convection coefficient',\n",
    "    value = 20,\n",
    "    cb = animate_transient\n",
    ")\n",
    "\n",
    "out_widget = widgets.Output(layout=widgets.Layout())\n",
    "\n",
    "display(ui.Form([out_widget,t_widget,dt_widget,k_widget,cp_widget,h_widget,q_widget]))\n",
    "ani = animate_transient() # this call ensures that the animation is shown in the widget"
   ]
  },
  {
   "cell_type": "markdown",
   "metadata": {},
   "source": [
    "The widget above displays two important dimensionless numbers, the Biot number $Bi$ and the Fourier number $Fo$. They are defined as\n",
    "\\begin{align}\n",
    "Bi &= \\frac{hL}{k} \\\\\n",
    "Fo &= \\frac{\\alpha t}{L^2} ,\n",
    "\\end{align}\n",
    "where $\\alpha=\\frac{k}{\\rho c_p}$ is the _thermal diffusivity_. You can observe how $Bi$ varies with the materials properties. Note that $Fo$ increases with time - in fact, it can be considered a dimensionless time. Later in the course, we will learn how these dimensionless numbers can be used to obtain useful approximations for transient heat transfer solutions."
   ]
  },
  {
   "cell_type": "markdown",
   "metadata": {},
   "source": [
    "## Exercises\n",
    "\n",
    "1. Obtain the steady-state temperature profile in the copper bar.\n",
    "2. Implement the forward Euler finite difference scheme discussed in class. For the given parameters, a resolution $\\Delta x=2.5\\cdot10^{-4}\\ \\mathrm{mm}$ and a time step $\\Delta t=10^{-4}\\ \\mathrm{s}$ will yield a stable scheme. Plot the solution at three different times in _one axis system_ to demonstrate that it converges to the steady-state solution. Plot the steady-state solution in the _same axis system_ as well. _Hint:_ The transient profile should be close to the steady-state solution after $\\approx 1\\ \\mathrm{s}$. \n",
    "3. What do you expect when the heat generation is set to zero? Check if your Matlab code produces the expected behavior.\n",
    "4. Switch the heat generation back on and assume that the surface at $x=0$ is now insulated. Copy your Matlab code into a new script and update it to the new boundary condition. Plot the solution at three different times and also the steady-state solution in _one axis system_. _Hint:_ The time it takes to approach the steady-state solution will be much longer. Observe the solution at least up to $100\\ \\mathrm{s}$. The insulating boundary condition at $x=0$ can be formulated as\n",
    "\\begin{equation*}\n",
    "T(0,t+1) = T(0,t) + \\frac{2k}{\\rho c_p} \\frac{\\Delta t}{\\Delta x^2} \\left[ T(1,t)-T(0,t) \\right] + \\frac{\\dot{q}}{\\rho c_p} \\Delta t\n",
    "\\end{equation*}\n",
    "5. Reduce the thermal conductivity to $k=0.4\\ \\mathrm{W/(m\\cdot K)}$. What do you observe? Plot the solution at three different times and the steady-state solution in _one axis system_.\n",
    "6. Switch off the heat generation again. What is the new steady-state solution? What do you observe? Plot the solution at three different times and the steady-state solution in _one axis system_.\n",
    "7. Increase the convection coefficient to $h=5000\\ \\mathrm{W/(m^2\\cdot K)}$. What do you observe? Plot the solution at three different times and the steady-state solution in _one axis system_.\n",
    "8. Summarize your findings.\n",
    "    \n",
    "    1. What is the effect of the thermal conductivity on the shape of the temperature profile?\n",
    "    2. What is the effect of the convection coefficient on the shape of the temperature profile?\n",
    "    3. What is the effect of the thermal conductivity on the time it takes to reach the steady-state solution?\n",
    "    4. What is the effect of the convection coefficient on the time it takes to reach the steady-state solution?\n",
    "\n",
    "The general behavior of the transient solution can be characterized by the Biot number $Bi=\\frac{hL}{k}$ and the thermal time constant $\\tau=\\frac{\\rho c_p L}{h}$. Based on these quantities:\n",
    "\n",
    "1. Formulate a hypothesis how the thickness $L$ of the copper bar will affect the temperature profile and the time it takes to reach the steady-state solution.\n",
    "2. Formulate a hypothesis how the thermal heat capacity $\\rho c_p$ of the copper bar will affect the temperature profile and the time it takes to reach the steady-state solution."
   ]
  }
 ],
 "metadata": {
  "colab": {
   "name": "1D Heat Transfer in a Copper Bar.ipynb",
   "provenance": []
  },
  "kernelspec": {
   "display_name": "Python 3",
   "language": "python",
   "name": "python3"
  },
  "language_info": {
   "codemirror_mode": {
    "name": "ipython",
    "version": 3
   },
   "file_extension": ".py",
   "mimetype": "text/x-python",
   "name": "python",
   "nbconvert_exporter": "python",
   "pygments_lexer": "ipython3",
   "version": "3.7.7"
  }
 },
 "nbformat": 4,
 "nbformat_minor": 1
}
