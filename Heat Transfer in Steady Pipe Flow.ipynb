{
 "cells": [
  {
   "cell_type": "code",
   "execution_count": 1,
   "metadata": {
    "executionInfo": {
     "elapsed": 385,
     "status": "ok",
     "timestamp": 1619553489179,
     "user": {
      "displayName": "Ulf Schiller",
      "photoUrl": "https://lh3.googleusercontent.com/a-/AOh14GjVAyzhRKcgkROmkhqAIb0abiUpg2kUPQbLRjMi=s64",
      "userId": "12906905475473447503"
     },
     "user_tz": 240
    },
    "id": "OTd7VoI-b8Pr"
   },
   "outputs": [
    {
     "data": {
      "application/javascript": [
       "\n",
       "requirejs.undef('filepicker');\n",
       "\n",
       "define('filepicker', [\"@jupyter-widgets/base\"], function(widgets) {\n",
       "\n",
       "    var FilePickerView = widgets.DOMWidgetView.extend({\n",
       "        render: function(){\n",
       "            this.file = document.createElement('input');\n",
       "            this.file.setAttribute('class', 'fileinput');\n",
       "            this.file.setAttribute('id', this.cid);\n",
       "            this.file.multiple = this.model.get('multiple');\n",
       "            this.file.required = true;\n",
       "            this.file.setAttribute('type', 'file');\n",
       "            this.file.setAttribute('style', 'display:none');\n",
       "\n",
       "            this.label = document.createElement('label');\n",
       "            this.label.setAttribute('for', this.cid);\n",
       "            this.label.setAttribute('style', 'border: 1px solid; border-radius: 5px; display: inline-block; padding: 6px 12px');\n",
       "\n",
       "            this.icon = document.createElement('i');\n",
       "            this.icon.setAttribute(\"class\", \"fa fa-upload\");\n",
       "\n",
       "            if (this.file.multiple) {\n",
       "                this.labelstr = \"  Upload Files\";\n",
       "            } else {\n",
       "                this.labelstr = \"  Upload File\";\n",
       "            }\n",
       "            this.label.innerHTML = this.labelstr;\n",
       "            this.label.prepend(this.icon);\n",
       "            this.el.appendChild(this.label);\n",
       "            this.el.appendChild(this.file);\n",
       "            this.listenTo(this.model, 'change:send', this._send_changed, this);\n",
       "            this.listenTo(this.model, 'change:reset', this._reset, this);\n",
       "            this.update();\n",
       "        },\n",
       "\n",
       "        events: {\n",
       "            // List of events and their handlers.\n",
       "            'change': 'handle_file_change'\n",
       "        },\n",
       "\n",
       "        _reset: function() {\n",
       "            this.label.innerHTML = this.labelstr;\n",
       "            this.label.prepend(this.icon);\n",
       "            this.file.removeAttribute(\"disabled\");\n",
       "        },\n",
       "\n",
       "        _send_changed: function() {\n",
       "            var that = this;\n",
       "            var send = this.model.get('send');\n",
       "            var fnum = send[0];\n",
       "            var offset = send[1];\n",
       "            var chunk_size=64*1024;\n",
       "            var reader;\n",
       "\n",
       "            if (fnum == -1) {\n",
       "                // ignore\n",
       "                return\n",
       "            }\n",
       "\n",
       "            if (offset == 0) {\n",
       "                this.model.set('sent', -1);\n",
       "                this.touch();\n",
       "            }\n",
       "\n",
       "            // console.log('send: ' + fnum + ' ' + offset);\n",
       "            function tob64( buffer ) {\n",
       "                var binary = '';\n",
       "                var bytes = new Uint8Array( buffer );\n",
       "                var len = bytes.byteLength;\n",
       "                for (var i = 0; i < len; i++) {\n",
       "                    binary += String.fromCharCode( bytes[ i ] );\n",
       "                }\n",
       "                return window.btoa( binary );\n",
       "            }\n",
       "\n",
       "            var reader_done = function (event) {\n",
       "                // chunk is finished.  Send to python\n",
       "                if (event.target.error == null) {\n",
       "                    var b64 = tob64(event.target.result);\n",
       "                    that.model.set('data', b64);\n",
       "                    that.model.set('sent', offset);\n",
       "                    that.touch();\n",
       "                } else {\n",
       "                    console.log(\"Read error: \" + event.target.error);\n",
       "                    that.model.set('data', '');\n",
       "                    that.model.set('sent', -2);\n",
       "                    that.touch();\n",
       "                }\n",
       "                that.touch();\n",
       "            }\n",
       "        \n",
       "            var chunk_reader = function (_offset, _f) {\n",
       "                // console.log('CR' + ' ' + _f + ' ' + _offset);\n",
       "                reader = new FileReader();\n",
       "                var chunk = _f.slice(_offset, chunk_size + _offset);            \n",
       "                reader.readAsArrayBuffer(chunk);\n",
       "                reader.onload = reader_done;\n",
       "            }\n",
       "    \n",
       "            // OK. request next chunk\n",
       "            chunk_reader(offset, this.files[fnum]);\n",
       "        },\n",
       "        \n",
       "        \n",
       "        handle_file_change: function(evt) {\n",
       "\n",
       "            var _files = evt.target.files;\n",
       "            var filenames = [];\n",
       "            var file_readers = [];\n",
       "            this.files = [];\n",
       "\n",
       "            for (var i = 0; i < _files.length; i++) {\n",
       "                var file = _files[i];\n",
       "                console.log(\"Filename: \" + file.name);\n",
       "                console.log(\"Type: \" + file.type);\n",
       "                console.log(\"Size: \" + file.size + \" bytes\");\n",
       "                this.files.push(file);\n",
       "                filenames.push([file.name, file.size]);\n",
       "            };\n",
       "            \n",
       "            // Set the filenames of the files.\n",
       "            this.model.set('filenames', filenames);\n",
       "            this.touch();\n",
       "\n",
       "            // update the label\n",
       "            if (filenames.length == 0) {\n",
       "                this.label.innerHTML = this.labelstr;\n",
       "                this.file.removeAttribute(\"disabled\");\n",
       "            } else if (filenames.length == 1) {\n",
       "                this.label.innerHTML = \"  \" + filenames[0][0];\n",
       "                this.file.setAttribute('disabled', 'true');\n",
       "            } else {\n",
       "                this.label.innerHTML = \"  \" + filenames.length + \" files selected\";\n",
       "                this.file.setAttribute('disabled', 'true');           \n",
       "            };\n",
       "            this.label.prepend(this.icon);\n",
       "        },\n",
       "    });\n",
       "\n",
       "    // Register the FilePickerView with the widget manager.\n",
       "    return {\n",
       "        FilePickerView: FilePickerView\n",
       "    };\n",
       "});\n"
      ],
      "text/plain": [
       "<IPython.core.display.Javascript object>"
      ]
     },
     "metadata": {},
     "output_type": "display_data"
    }
   ],
   "source": [
    "import numpy as np\n",
    "import matplotlib as mpl\n",
    "import matplotlib.pyplot as plt\n",
    "import ipywidgets as widgets\n",
    "import hublib.ui as ui\n",
    "mpl.rc('animation', html='jshtml')"
   ]
  },
  {
   "cell_type": "markdown",
   "metadata": {
    "id": "qKakS3jnIIbR"
   },
   "source": [
    "# Heat Transfer in Steady Pipe Flow"
   ]
  },
  {
   "cell_type": "markdown",
   "metadata": {
    "id": "qKakS3jnIIbR"
   },
   "source": [
    "In this example, we consider a steady flow through a heated pipe. This is a simplified example of what happens in a water heater. The pipe is heated, for example, by a heating element wrapped around the outside of the pipe, and the heat is transferred to the water that flows through the pipe. We will obtain the energy balance for the fluid flowing in the pipe, which allows us to calculate the heat transfer and the spatial temperature profile along the pipe.\n",
    "\n",
    "Consider a pipe of lenght $L$ and radius $r$ as shown in the figure below. A fluid is flowing through the pipe at a mass flow rate $\\dot{m}$ (in $kg/s$). When entering the heated section of the pipe, the fluid has an _inlet temperature_ of $T_i$. In this example, we will consider the average temperature at any location $x$ along the pipe, that is, the temperature $T(x)$ is averaged over the radial coordinate of the cross-section at $x$. The heating element provides a constant heat flux $q''$ to the fluid at the surface of the pipe.\n",
    "\n",
    "![Heated Pipe Flow](assets/pipe.png)\n",
    "\n",
    "Due to the heat transfer from the pipe to the fluid, the temperature of the fluid will rise as it flows through the pipe, and it will be discharged at an _outlet temperature_ $T_o$. "
   ]
  },
  {
   "cell_type": "markdown",
   "metadata": {},
   "source": [
    "## External heat transfer at constant heat flux $q''$\n",
    "\n",
    "### Energy balance\n",
    "\n",
    "Consider a control volume that is a small segment of the pipe of length $\\Delta x$, i.e., the control volume is $V=\\pi r^2 \\Delta x$. The rate of change of thermal energy in the control volume is thus\n",
    "$$ \\dot{E}_\\text{st} = \\rho c_p \\frac{\\partial T(x,t)}{\\partial t} \\pi r^2 \\Delta x$$\n",
    "To perform an energy balance for this control volume, we consider the thermal energy of the fluid flowing in an out of the segment, and the energy transferred by the heat flux $q''$. The rate at which thermal energy enters the control volume is \n",
    "$$ \\dot{E}_\\text{in} = \\dot{m} c_p T(x) + 2\\pi r q'' \\Delta x, $$\n",
    "and the rate at which thermal energy leaves the control volume is \n",
    "$$ \\dot{E}_\\text{out} = \\dot{m} c_p T(x+\\Delta x) \\approx \\dot{m} c_p T(x) + \\dot{m} c_p \\Delta x \\frac{\\partial T(x)}{\\partial x}.$$\n",
    "The energy balance thus reads\n",
    "$$ \\pi r^2 \\rho c_p \\frac{\\partial T(x,t)}{\\partial t} = 2\\pi r q'' - \\dot{m} c_p \\frac{\\partial T(x,t)}{\\partial x}.$$"
   ]
  },
  {
   "cell_type": "markdown",
   "metadata": {},
   "source": [
    "### Steady-state solution\n",
    "\n",
    "Under steady-state conditions, the temperature profile $T(x)$ along the pipe is described by the ordinary differential equation\n",
    "$$ \\dot{m} c_p \\frac{\\partial T(x,t)}{\\partial x} = 2\\pi r q'' .$$\n",
    "The general solution of this equation is \n",
    "$$ T(x) = \\frac{2\\pi r q''}{\\dot{m} c_p} x + C_1 .$$\n",
    "$C_1$ can be determined by using the boundary condition\n",
    "$$ T(0) = T_i, $$\n",
    "which leads to\n",
    "$$ T(x) = T_i + \\frac{2\\pi r q''}{\\dot{m} c_p} x .$$\n",
    "\n",
    "Let us plot this solution:"
   ]
  },
  {
   "cell_type": "code",
   "execution_count": 2,
   "metadata": {
    "executionInfo": {
     "elapsed": 456,
     "status": "ok",
     "timestamp": 1619553489258,
     "user": {
      "displayName": "Ulf Schiller",
      "photoUrl": "https://lh3.googleusercontent.com/a-/AOh14GjVAyzhRKcgkROmkhqAIb0abiUpg2kUPQbLRjMi=s64",
      "userId": "12906905475473447503"
     },
     "user_tz": 240
    },
    "id": "WzqJVKljb9P6"
   },
   "outputs": [
    {
     "data": {
      "image/png": "[encoded data removed]",
      "text/plain": [
       "<Figure size 432x288 with 1 Axes>"
      ]
     },
     "metadata": {
      "needs_background": "light"
     },
     "output_type": "display_data"
    }
   ],
   "source": [
    "L = 50     # pipe length in meter\n",
    "r = 0.1    # pipe radius in meter\n",
    "m = 3      # mass flow rate in kg/s\n",
    "cp = 4180  # specific heat capacity of water in J/kg*K\n",
    "rho = 1000 # density of water in kg/m^3\n",
    "Ti = 400   # inlet temperature in K\n",
    "T0 = 300   # initial fluid temperature in K\n",
    "q_flux = 100000 # heat flux in W/m^2\n",
    "\n",
    "def steady_state(x):\n",
    "    T = Ti + (2*np.pi*r*q_flux)/(m*cp)*x\n",
    "    return T\n",
    "\n",
    "xs = np.linspace(0,L,20)\n",
    "plt.plot(xs,steady_state(xs),'r--',lw=2,label='steady-state solution')\n",
    "plt.title('Temperature along the pipe')\n",
    "plt.xlabel(r'$x\\ \\mathrm{[mm]}$')\n",
    "plt.ylabel(r'$T\\ \\mathrm{[^\\circ C]}$')\n",
    "plt.xlim(0,L)\n",
    "plt.ticklabel_format(useOffset=False)\n",
    "plt.legend()\n",
    "plt.show()"
   ]
  },
  {
   "cell_type": "markdown",
   "metadata": {},
   "source": [
    "### Finite Difference Formulation\n",
    "\n",
    "The transient solution can be obtained by solving the energy balance numerically. Similar to what we have done for the 1D heat diffusion equation, we replace the partial derivatives by finite differences. This leads us to the algebraic equation\n",
    "$$ T(x,t+\\Delta t) = T(x,t) + \\frac{\\dot{m}\\Delta t}{\\pi r^2 \\rho} \\left[ \\frac{2 \\pi r q''}{\\dot{m} c_p} - \\frac{T(x,t)-T(x-\\Delta x,t)}{\\Delta x} \\right] .$$"
   ]
  },
  {
   "cell_type": "markdown",
   "metadata": {},
   "source": [
    "To use this equation as an update rule, we define a discrete spacing $\\Delta x$ and a discrete time step $\\Delta t$ and calculate the coordinates `xs` along the pipe and the discrete times `ts`, assuming that we want to integrate up to time `time`."
   ]
  },
  {
   "cell_type": "code",
   "execution_count": 3,
   "metadata": {},
   "outputs": [],
   "source": [
    "n = 100    # number of nodes\n",
    "time = 700 # time in s\n",
    "\n",
    "dx = L/n\n",
    "dt = 1.0\n",
    "\n",
    "xs = np.arange(0,L+dx,dx)\n",
    "ts = np.arange(0,time+dt,dt)"
   ]
  },
  {
   "cell_type": "markdown",
   "metadata": {
    "id": "WTq8wM4QciA4"
   },
   "source": [
    "Looking at the update equation, we see that we only need a boundary condition for $T(x=0)$ at the inlet, since only the left neighbor of every nodes is needed. The inlet boundary condition is a Dirichlet boundary condition, i.e., $T(x=0)=T_i$ at all times. We can thus define a function that computes the transient solution as follows:"
   ]
  },
  {
   "cell_type": "code",
   "execution_count": 4,
   "metadata": {},
   "outputs": [],
   "source": [
    "def transient():\n",
    "    Ts = np.zeros((len(ts),len(xs)))\n",
    "    Ts[0] = [T0]*len(xs) # initial condition\n",
    "    T = Ts[0].copy()\n",
    "    for t in range(len(ts)-1):\n",
    "        T[0] = Ti # Dirichlet boundary condition\n",
    "        dTdx = (T[1:]-T[:-1])/dx\n",
    "        T[1:] += dt/(rho*cp*np.pi*r**2)*(2*np.pi*r*q_flux - m*cp*dTdx)\n",
    "        Ts[t+1] = T\n",
    "    return Ts"
   ]
  },
  {
   "cell_type": "markdown",
   "metadata": {},
   "source": [
    "Let us plot the solution at selected times along with the steady-state solution:"
   ]
  },
  {
   "cell_type": "code",
   "execution_count": 5,
   "metadata": {},
   "outputs": [
    {
     "data": {
      "image/png": "[encoded data removed]",
      "text/plain": [
       "<Figure size 432x288 with 1 Axes>"
      ]
     },
     "metadata": {
      "needs_background": "light"
     },
     "output_type": "display_data"
    }
   ],
   "source": [
    "Ts = transient()\n",
    "for t in [0,100,time]:\n",
    "    plt.plot(xs,Ts[t],'.:',label='finite difference t=%.1f'%ts[t]+' s')\n",
    "plt.plot(xs,steady_state(xs),'r--',lw=2,label='steady state solution')\n",
    "plt.title('Temperature along the pipe')\n",
    "plt.xlabel(r'$x\\ \\mathrm{[mm]}$')\n",
    "plt.ylabel(r'$T\\ \\mathrm{[^\\circ C]}$')\n",
    "plt.ticklabel_format(useOffset=False)\n",
    "plt.legend()\n",
    "plt.show()"
   ]
  },
  {
   "cell_type": "markdown",
   "metadata": {},
   "source": [
    "The widget below allows you to explore how the water heating is affected by the flow rate $\\dot{m}$ and the heat flux $q''$."
   ]
  },
  {
   "cell_type": "code",
   "execution_count": 6,
   "metadata": {
    "executionInfo": {
     "elapsed": 884,
     "status": "ok",
     "timestamp": 1619553489729,
     "user": {
      "displayName": "Ulf Schiller",
      "photoUrl": "https://lh3.googleusercontent.com/a-/AOh14GjVAyzhRKcgkROmkhqAIb0abiUpg2kUPQbLRjMi=s64",
      "userId": "12906905475473447503"
     },
     "user_tz": 240
    },
    "id": "4DDbnpz24TNr"
   },
   "outputs": [],
   "source": [
    "def animate1d(T,frames=100,interval=50):\n",
    "    step = len(T)//frames\n",
    "    T = np.vstack([T[0],T[1::step]])\n",
    "\n",
    "    def init():\n",
    "        profile.set_data(xs,T[0])\n",
    "        time_text.set_text('t={0:.4f} s'.format(0))\n",
    "        return (profile,time_text)\n",
    "\n",
    "    def animate(i):\n",
    "        profile.set_data(xs,T[i])\n",
    "        time_text.set_text('t={0:.4f} s'.format(i*dt*step))\n",
    "        return (profile,time_text)\n",
    "  \n",
    "    Tmax = max(750,np.max(steady_state(xs)))\n",
    "    Tmin = min(298,np.min(steady_state(xs)))\n",
    "\n",
    "    fig, ax = plt.subplots()\n",
    "    ax.plot(xs,steady_state(xs),'r--',lw=2,label='steady-state solution')\n",
    "    profile, = ax.plot(xs,Ts[0],'r',label='transient solution')\n",
    "    ax.set_ylim(Tmin-(Tmax-Tmin)/10,Tmax+(Tmax-Tmin)/10)\n",
    "    ax.set_title('Temperature along the pipe')\n",
    "    ax.set_xlabel(r'$x\\ \\mathrm{[mm]}$')\n",
    "    ax.set_ylabel(r'$T\\ \\mathrm{[^\\circ C]}$')\n",
    "    ax.ticklabel_format(useOffset=False)\n",
    "    ax.legend(loc=3)\n",
    "    time_text = ax.text(0.7, 0.9, 't=0 s', transform=ax.transAxes, color='k', fontsize=14)\n",
    "    \n",
    "    ani = mpl.animation.FuncAnimation(fig, animate, init_func=init,\n",
    "                                      frames=frames, interval=interval, blit=True)\n",
    "    plt.close()\n",
    "    return ani"
   ]
  },
  {
   "cell_type": "code",
   "execution_count": 7,
   "metadata": {},
   "outputs": [
    {
     "data": {
      "application/vnd.jupyter.widget-view+json": {
       "model_id": "866832d3635c4b218fc19b3a2b4719b9",
       "version_major": 2,
       "version_minor": 0
      },
      "text/plain": [
       "Group(children=(Output(), Number(children=(HTML(value='<div data-toggle=\"popover\" title=\"total observation tim…"
      ]
     },
     "metadata": {},
     "output_type": "display_data"
    }
   ],
   "source": [
    "def animate_transient(name='', value=''):\n",
    "    global time, ts, m, q_flux\n",
    "    \n",
    "    # set parameters\n",
    "    time = t_widget.value # observation time\n",
    "    m = m_widget.value # mass flow rate\n",
    "    q_flux = q_widget.value # heat flux\n",
    "    ts = np.arange(0,time+dt,dt)\n",
    "    Ts = transient()\n",
    "    \n",
    "    ani = animate1d(Ts,frames=40,interval=100)\n",
    "    with out_widget:\n",
    "        out_widget.clear_output(wait=True)\n",
    "        display(ani)\n",
    "    return ani\n",
    "\n",
    "t_widget = ui.Number(\n",
    "    name = 'time',\n",
    "    desc = 'total observation time',\n",
    "    units = 's',\n",
    "    value = 700,\n",
    "    cb = animate_transient\n",
    ")\n",
    "m_widget = ui.Number(\n",
    "    name = 'm',\n",
    "    desc = 'mass flow rate',\n",
    "    units = 'kg/s',\n",
    "    value = 3,\n",
    "    cb = animate_transient\n",
    ")\n",
    "q_widget = ui.Number(\n",
    "    name = 'q',\n",
    "    desc = 'heat flux',\n",
    "    units = 'W/m^2',\n",
    "    value = 100000,\n",
    "    cb = animate_transient\n",
    ")\n",
    "\n",
    "out_widget = widgets.Output(layout=widgets.Layout())\n",
    "\n",
    "display(ui.Form([out_widget,t_widget,m_widget,q_widget]))\n",
    "ani = animate_transient() # this call ensures that the animation is shown in the widget"
   ]
  }
 ],
 "metadata": {
  "colab": {
   "name": "Heat Transfer Flow Through a Pipe_Solutions.ipynb",
   "provenance": []
  },
  "kernelspec": {
   "display_name": "Python 3",
   "language": "python",
   "name": "python3"
  },
  "language_info": {
   "codemirror_mode": {
    "name": "ipython",
    "version": 3
   },
   "file_extension": ".py",
   "mimetype": "text/x-python",
   "name": "python",
   "nbconvert_exporter": "python",
   "pygments_lexer": "ipython3",
   "version": "3.7.7"
  }
 },
 "nbformat": 4,
 "nbformat_minor": 1
}
